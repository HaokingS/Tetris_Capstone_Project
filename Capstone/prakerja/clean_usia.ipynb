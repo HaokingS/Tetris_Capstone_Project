{
 "cells": [
  {
   "cell_type": "markdown",
   "metadata": {},
   "source": [
    "# Import library dan dataset"
   ]
  },
  {
   "cell_type": "code",
   "execution_count": 53,
   "metadata": {},
   "outputs": [
    {
     "data": {
      "text/html": [
       "<div>\n",
       "<style scoped>\n",
       "    .dataframe tbody tr th:only-of-type {\n",
       "        vertical-align: middle;\n",
       "    }\n",
       "\n",
       "    .dataframe tbody tr th {\n",
       "        vertical-align: top;\n",
       "    }\n",
       "\n",
       "    .dataframe thead th {\n",
       "        text-align: right;\n",
       "    }\n",
       "</style>\n",
       "<table border=\"1\" class=\"dataframe\">\n",
       "  <thead>\n",
       "    <tr style=\"text-align: right;\">\n",
       "      <th></th>\n",
       "      <th>nama_variabel</th>\n",
       "      <th>nama_variabel_turunan</th>\n",
       "      <th>nama_tahun</th>\n",
       "      <th>nama_turunan_tahun</th>\n",
       "      <th>data_content</th>\n",
       "      <th>nama_item_vertical_variabel</th>\n",
       "    </tr>\n",
       "  </thead>\n",
       "  <tbody>\n",
       "    <tr>\n",
       "      <th>0</th>\n",
       "      <td>Angkatan Kerja (AK) Menurut Golongan Umur</td>\n",
       "      <td>Pengangguran</td>\n",
       "      <td>2022</td>\n",
       "      <td>Februari</td>\n",
       "      <td>1133739</td>\n",
       "      <td>15-19</td>\n",
       "    </tr>\n",
       "    <tr>\n",
       "      <th>1</th>\n",
       "      <td>Angkatan Kerja (AK) Menurut Golongan Umur</td>\n",
       "      <td>Pengangguran</td>\n",
       "      <td>2022</td>\n",
       "      <td>Februari</td>\n",
       "      <td>2504512</td>\n",
       "      <td>20-24</td>\n",
       "    </tr>\n",
       "    <tr>\n",
       "      <th>2</th>\n",
       "      <td>Angkatan Kerja (AK) Menurut Golongan Umur</td>\n",
       "      <td>Pengangguran</td>\n",
       "      <td>2022</td>\n",
       "      <td>Februari</td>\n",
       "      <td>1343508</td>\n",
       "      <td>25-29</td>\n",
       "    </tr>\n",
       "    <tr>\n",
       "      <th>3</th>\n",
       "      <td>Angkatan Kerja (AK) Menurut Golongan Umur</td>\n",
       "      <td>Pengangguran</td>\n",
       "      <td>2022</td>\n",
       "      <td>Februari</td>\n",
       "      <td>754722</td>\n",
       "      <td>30-34</td>\n",
       "    </tr>\n",
       "    <tr>\n",
       "      <th>4</th>\n",
       "      <td>Angkatan Kerja (AK) Menurut Golongan Umur</td>\n",
       "      <td>Pengangguran</td>\n",
       "      <td>2022</td>\n",
       "      <td>Februari</td>\n",
       "      <td>649921</td>\n",
       "      <td>35-39</td>\n",
       "    </tr>\n",
       "  </tbody>\n",
       "</table>\n",
       "</div>"
      ],
      "text/plain": [
       "                               nama_variabel nama_variabel_turunan  \\\n",
       "0  Angkatan Kerja (AK) Menurut Golongan Umur          Pengangguran   \n",
       "1  Angkatan Kerja (AK) Menurut Golongan Umur          Pengangguran   \n",
       "2  Angkatan Kerja (AK) Menurut Golongan Umur          Pengangguran   \n",
       "3  Angkatan Kerja (AK) Menurut Golongan Umur          Pengangguran   \n",
       "4  Angkatan Kerja (AK) Menurut Golongan Umur          Pengangguran   \n",
       "\n",
       "   nama_tahun nama_turunan_tahun  data_content nama_item_vertical_variabel  \n",
       "0        2022           Februari       1133739                       15-19  \n",
       "1        2022           Februari       2504512                       20-24  \n",
       "2        2022           Februari       1343508                       25-29  \n",
       "3        2022           Februari        754722                       30-34  \n",
       "4        2022           Februari        649921                       35-39  "
      ]
     },
     "execution_count": 53,
     "metadata": {},
     "output_type": "execute_result"
    }
   ],
   "source": [
    "import pandas as pd\n",
    "import seaborn as sns\n",
    "import matplotlib.pyplot as mlt\n",
    "usia = pd.read_csv('dataset_pengangguran_usia.csv', sep = ';')\n",
    "usia.head()"
   ]
  },
  {
   "cell_type": "code",
   "execution_count": 54,
   "metadata": {},
   "outputs": [
    {
     "data": {
      "text/plain": [
       "Index(['nama_variabel', 'nama_variabel_turunan', 'nama_tahun',\n",
       "       'nama_turunan_tahun', 'data_content', 'nama_item_vertical_variabel'],\n",
       "      dtype='object')"
      ]
     },
     "execution_count": 54,
     "metadata": {},
     "output_type": "execute_result"
    }
   ],
   "source": [
    "usia.columns"
   ]
  },
  {
   "cell_type": "code",
   "execution_count": 55,
   "metadata": {},
   "outputs": [
    {
     "data": {
      "text/plain": [
       "(90, 6)"
      ]
     },
     "execution_count": 55,
     "metadata": {},
     "output_type": "execute_result"
    }
   ],
   "source": [
    "usia.shape"
   ]
  },
  {
   "cell_type": "markdown",
   "metadata": {},
   "source": [
    "# Data Cleaning"
   ]
  },
  {
   "cell_type": "markdown",
   "metadata": {},
   "source": [
    "## Delete Column"
   ]
  },
  {
   "cell_type": "code",
   "execution_count": 56,
   "metadata": {},
   "outputs": [
    {
     "data": {
      "text/html": [
       "<div>\n",
       "<style scoped>\n",
       "    .dataframe tbody tr th:only-of-type {\n",
       "        vertical-align: middle;\n",
       "    }\n",
       "\n",
       "    .dataframe tbody tr th {\n",
       "        vertical-align: top;\n",
       "    }\n",
       "\n",
       "    .dataframe thead th {\n",
       "        text-align: right;\n",
       "    }\n",
       "</style>\n",
       "<table border=\"1\" class=\"dataframe\">\n",
       "  <thead>\n",
       "    <tr style=\"text-align: right;\">\n",
       "      <th></th>\n",
       "      <th>nama_tahun</th>\n",
       "      <th>data_content</th>\n",
       "      <th>nama_item_vertical_variabel</th>\n",
       "    </tr>\n",
       "  </thead>\n",
       "  <tbody>\n",
       "    <tr>\n",
       "      <th>0</th>\n",
       "      <td>2022</td>\n",
       "      <td>1133739</td>\n",
       "      <td>15-19</td>\n",
       "    </tr>\n",
       "    <tr>\n",
       "      <th>1</th>\n",
       "      <td>2022</td>\n",
       "      <td>2504512</td>\n",
       "      <td>20-24</td>\n",
       "    </tr>\n",
       "    <tr>\n",
       "      <th>2</th>\n",
       "      <td>2022</td>\n",
       "      <td>1343508</td>\n",
       "      <td>25-29</td>\n",
       "    </tr>\n",
       "    <tr>\n",
       "      <th>3</th>\n",
       "      <td>2022</td>\n",
       "      <td>754722</td>\n",
       "      <td>30-34</td>\n",
       "    </tr>\n",
       "    <tr>\n",
       "      <th>4</th>\n",
       "      <td>2022</td>\n",
       "      <td>649921</td>\n",
       "      <td>35-39</td>\n",
       "    </tr>\n",
       "  </tbody>\n",
       "</table>\n",
       "</div>"
      ],
      "text/plain": [
       "   nama_tahun  data_content nama_item_vertical_variabel\n",
       "0        2022       1133739                       15-19\n",
       "1        2022       2504512                       20-24\n",
       "2        2022       1343508                       25-29\n",
       "3        2022        754722                       30-34\n",
       "4        2022        649921                       35-39"
      ]
     },
     "execution_count": 56,
     "metadata": {},
     "output_type": "execute_result"
    }
   ],
   "source": [
    "usia.drop(['nama_variabel', 'nama_variabel_turunan', 'nama_turunan_tahun'], axis = 1, inplace = True)\n",
    "usia.head()"
   ]
  },
  {
   "cell_type": "markdown",
   "metadata": {},
   "source": [
    "## Rename Column"
   ]
  },
  {
   "cell_type": "code",
   "execution_count": 57,
   "metadata": {},
   "outputs": [
    {
     "data": {
      "text/html": [
       "<div>\n",
       "<style scoped>\n",
       "    .dataframe tbody tr th:only-of-type {\n",
       "        vertical-align: middle;\n",
       "    }\n",
       "\n",
       "    .dataframe tbody tr th {\n",
       "        vertical-align: top;\n",
       "    }\n",
       "\n",
       "    .dataframe thead th {\n",
       "        text-align: right;\n",
       "    }\n",
       "</style>\n",
       "<table border=\"1\" class=\"dataframe\">\n",
       "  <thead>\n",
       "    <tr style=\"text-align: right;\">\n",
       "      <th></th>\n",
       "      <th>tahun</th>\n",
       "      <th>jumlah_pengangguran</th>\n",
       "      <th>kelompok_usia</th>\n",
       "    </tr>\n",
       "  </thead>\n",
       "  <tbody>\n",
       "    <tr>\n",
       "      <th>0</th>\n",
       "      <td>2022</td>\n",
       "      <td>1133739</td>\n",
       "      <td>15-19</td>\n",
       "    </tr>\n",
       "    <tr>\n",
       "      <th>1</th>\n",
       "      <td>2022</td>\n",
       "      <td>2504512</td>\n",
       "      <td>20-24</td>\n",
       "    </tr>\n",
       "    <tr>\n",
       "      <th>2</th>\n",
       "      <td>2022</td>\n",
       "      <td>1343508</td>\n",
       "      <td>25-29</td>\n",
       "    </tr>\n",
       "    <tr>\n",
       "      <th>3</th>\n",
       "      <td>2022</td>\n",
       "      <td>754722</td>\n",
       "      <td>30-34</td>\n",
       "    </tr>\n",
       "    <tr>\n",
       "      <th>4</th>\n",
       "      <td>2022</td>\n",
       "      <td>649921</td>\n",
       "      <td>35-39</td>\n",
       "    </tr>\n",
       "  </tbody>\n",
       "</table>\n",
       "</div>"
      ],
      "text/plain": [
       "   tahun  jumlah_pengangguran kelompok_usia\n",
       "0   2022              1133739         15-19\n",
       "1   2022              2504512         20-24\n",
       "2   2022              1343508         25-29\n",
       "3   2022               754722         30-34\n",
       "4   2022               649921         35-39"
      ]
     },
     "execution_count": 57,
     "metadata": {},
     "output_type": "execute_result"
    }
   ],
   "source": [
    "new_columns = {\n",
    "    'nama_tahun' : 'tahun',\n",
    "    'data_content' : 'jumlah_pengangguran',\n",
    "    'nama_item_vertical_variabel' : 'kelompok_usia'\n",
    "}\n",
    "usia = usia.rename(columns = new_columns)\n",
    "usia.head()"
   ]
  },
  {
   "cell_type": "markdown",
   "metadata": {},
   "source": [
    "## Type Casting"
   ]
  },
  {
   "cell_type": "code",
   "execution_count": 58,
   "metadata": {},
   "outputs": [
    {
     "name": "stdout",
     "output_type": "stream",
     "text": [
      "<class 'pandas.core.frame.DataFrame'>\n",
      "RangeIndex: 90 entries, 0 to 89\n",
      "Data columns (total 3 columns):\n",
      " #   Column               Non-Null Count  Dtype \n",
      "---  ------               --------------  ----- \n",
      " 0   tahun                90 non-null     int64 \n",
      " 1   jumlah_pengangguran  90 non-null     int64 \n",
      " 2   kelompok_usia        90 non-null     object\n",
      "dtypes: int64(2), object(1)\n",
      "memory usage: 2.2+ KB\n"
     ]
    }
   ],
   "source": [
    "usia.info()"
   ]
  },
  {
   "cell_type": "code",
   "execution_count": 59,
   "metadata": {},
   "outputs": [
    {
     "name": "stdout",
     "output_type": "stream",
     "text": [
      "<class 'pandas.core.frame.DataFrame'>\n",
      "RangeIndex: 90 entries, 0 to 89\n",
      "Data columns (total 3 columns):\n",
      " #   Column               Non-Null Count  Dtype \n",
      "---  ------               --------------  ----- \n",
      " 0   tahun                90 non-null     object\n",
      " 1   jumlah_pengangguran  90 non-null     int64 \n",
      " 2   kelompok_usia        90 non-null     object\n",
      "dtypes: int64(1), object(2)\n",
      "memory usage: 2.2+ KB\n"
     ]
    }
   ],
   "source": [
    "usia['tahun'] = usia['tahun'].astype(str)\n",
    "usia.info()"
   ]
  },
  {
   "cell_type": "markdown",
   "metadata": {},
   "source": [
    "## Check Missing Value"
   ]
  },
  {
   "cell_type": "code",
   "execution_count": 60,
   "metadata": {},
   "outputs": [
    {
     "data": {
      "text/plain": [
       "tahun                  0\n",
       "jumlah_pengangguran    0\n",
       "kelompok_usia          0\n",
       "dtype: int64"
      ]
     },
     "execution_count": 60,
     "metadata": {},
     "output_type": "execute_result"
    }
   ],
   "source": [
    "usia.isnull().sum()"
   ]
  },
  {
   "cell_type": "markdown",
   "metadata": {},
   "source": [
    "## Data Aggregation with Group by"
   ]
  },
  {
   "cell_type": "code",
   "execution_count": 61,
   "metadata": {},
   "outputs": [
    {
     "data": {
      "text/html": [
       "<div>\n",
       "<style scoped>\n",
       "    .dataframe tbody tr th:only-of-type {\n",
       "        vertical-align: middle;\n",
       "    }\n",
       "\n",
       "    .dataframe tbody tr th {\n",
       "        vertical-align: top;\n",
       "    }\n",
       "\n",
       "    .dataframe thead th {\n",
       "        text-align: right;\n",
       "    }\n",
       "</style>\n",
       "<table border=\"1\" class=\"dataframe\">\n",
       "  <thead>\n",
       "    <tr style=\"text-align: right;\">\n",
       "      <th></th>\n",
       "      <th>jumlah_pengangguran</th>\n",
       "    </tr>\n",
       "    <tr>\n",
       "      <th>tahun</th>\n",
       "      <th></th>\n",
       "    </tr>\n",
       "  </thead>\n",
       "  <tbody>\n",
       "    <tr>\n",
       "      <th>2014</th>\n",
       "      <td>7147069</td>\n",
       "    </tr>\n",
       "    <tr>\n",
       "      <th>2015</th>\n",
       "      <td>7454767</td>\n",
       "    </tr>\n",
       "    <tr>\n",
       "      <th>2016</th>\n",
       "      <td>7024172</td>\n",
       "    </tr>\n",
       "    <tr>\n",
       "      <th>2017</th>\n",
       "      <td>7005262</td>\n",
       "    </tr>\n",
       "    <tr>\n",
       "      <th>2018</th>\n",
       "      <td>6963457</td>\n",
       "    </tr>\n",
       "    <tr>\n",
       "      <th>2019</th>\n",
       "      <td>6898796</td>\n",
       "    </tr>\n",
       "    <tr>\n",
       "      <th>2020</th>\n",
       "      <td>6925486</td>\n",
       "    </tr>\n",
       "    <tr>\n",
       "      <th>2021</th>\n",
       "      <td>8746008</td>\n",
       "    </tr>\n",
       "    <tr>\n",
       "      <th>2022</th>\n",
       "      <td>8402153</td>\n",
       "    </tr>\n",
       "  </tbody>\n",
       "</table>\n",
       "</div>"
      ],
      "text/plain": [
       "       jumlah_pengangguran\n",
       "tahun                     \n",
       "2014               7147069\n",
       "2015               7454767\n",
       "2016               7024172\n",
       "2017               7005262\n",
       "2018               6963457\n",
       "2019               6898796\n",
       "2020               6925486\n",
       "2021               8746008\n",
       "2022               8402153"
      ]
     },
     "execution_count": 61,
     "metadata": {},
     "output_type": "execute_result"
    }
   ],
   "source": [
    "usia.groupby('tahun').sum()"
   ]
  },
  {
   "cell_type": "code",
   "execution_count": 62,
   "metadata": {},
   "outputs": [
    {
     "data": {
      "text/html": [
       "<div>\n",
       "<style scoped>\n",
       "    .dataframe tbody tr th:only-of-type {\n",
       "        vertical-align: middle;\n",
       "    }\n",
       "\n",
       "    .dataframe tbody tr th {\n",
       "        vertical-align: top;\n",
       "    }\n",
       "\n",
       "    .dataframe thead th {\n",
       "        text-align: right;\n",
       "    }\n",
       "</style>\n",
       "<table border=\"1\" class=\"dataframe\">\n",
       "  <thead>\n",
       "    <tr style=\"text-align: right;\">\n",
       "      <th></th>\n",
       "      <th>jumlah_pengangguran</th>\n",
       "    </tr>\n",
       "    <tr>\n",
       "      <th>kelompok_usia</th>\n",
       "      <th></th>\n",
       "    </tr>\n",
       "  </thead>\n",
       "  <tbody>\n",
       "    <tr>\n",
       "      <th>15-19</th>\n",
       "      <td>11253774</td>\n",
       "    </tr>\n",
       "    <tr>\n",
       "      <th>20-24</th>\n",
       "      <td>21388259</td>\n",
       "    </tr>\n",
       "    <tr>\n",
       "      <th>25-29</th>\n",
       "      <td>11308172</td>\n",
       "    </tr>\n",
       "    <tr>\n",
       "      <th>30-34</th>\n",
       "      <td>5816272</td>\n",
       "    </tr>\n",
       "    <tr>\n",
       "      <th>35-39</th>\n",
       "      <td>4205224</td>\n",
       "    </tr>\n",
       "    <tr>\n",
       "      <th>40-44</th>\n",
       "      <td>3412689</td>\n",
       "    </tr>\n",
       "    <tr>\n",
       "      <th>45-49</th>\n",
       "      <td>3265319</td>\n",
       "    </tr>\n",
       "    <tr>\n",
       "      <th>50-54</th>\n",
       "      <td>2627426</td>\n",
       "    </tr>\n",
       "    <tr>\n",
       "      <th>55-59</th>\n",
       "      <td>1732982</td>\n",
       "    </tr>\n",
       "    <tr>\n",
       "      <th>60+</th>\n",
       "      <td>1557053</td>\n",
       "    </tr>\n",
       "  </tbody>\n",
       "</table>\n",
       "</div>"
      ],
      "text/plain": [
       "               jumlah_pengangguran\n",
       "kelompok_usia                     \n",
       "15-19                     11253774\n",
       "20-24                     21388259\n",
       "25-29                     11308172\n",
       "30-34                      5816272\n",
       "35-39                      4205224\n",
       "40-44                      3412689\n",
       "45-49                      3265319\n",
       "50-54                      2627426\n",
       "55-59                      1732982\n",
       "60+                        1557053"
      ]
     },
     "execution_count": 62,
     "metadata": {},
     "output_type": "execute_result"
    }
   ],
   "source": [
    "usia.groupby('kelompok_usia').sum()"
   ]
  },
  {
   "cell_type": "markdown",
   "metadata": {},
   "source": [
    "## Pivot table"
   ]
  },
  {
   "cell_type": "code",
   "execution_count": 63,
   "metadata": {},
   "outputs": [
    {
     "data": {
      "text/html": [
       "<div>\n",
       "<style scoped>\n",
       "    .dataframe tbody tr th:only-of-type {\n",
       "        vertical-align: middle;\n",
       "    }\n",
       "\n",
       "    .dataframe tbody tr th {\n",
       "        vertical-align: top;\n",
       "    }\n",
       "\n",
       "    .dataframe thead tr th {\n",
       "        text-align: left;\n",
       "    }\n",
       "\n",
       "    .dataframe thead tr:last-of-type th {\n",
       "        text-align: right;\n",
       "    }\n",
       "</style>\n",
       "<table border=\"1\" class=\"dataframe\">\n",
       "  <thead>\n",
       "    <tr>\n",
       "      <th></th>\n",
       "      <th colspan=\"9\" halign=\"left\">jumlah_pengangguran</th>\n",
       "    </tr>\n",
       "    <tr>\n",
       "      <th>tahun</th>\n",
       "      <th>2014</th>\n",
       "      <th>2015</th>\n",
       "      <th>2016</th>\n",
       "      <th>2017</th>\n",
       "      <th>2018</th>\n",
       "      <th>2019</th>\n",
       "      <th>2020</th>\n",
       "      <th>2021</th>\n",
       "      <th>2022</th>\n",
       "    </tr>\n",
       "    <tr>\n",
       "      <th>kelompok_usia</th>\n",
       "      <th></th>\n",
       "      <th></th>\n",
       "      <th></th>\n",
       "      <th></th>\n",
       "      <th></th>\n",
       "      <th></th>\n",
       "      <th></th>\n",
       "      <th></th>\n",
       "      <th></th>\n",
       "    </tr>\n",
       "  </thead>\n",
       "  <tbody>\n",
       "    <tr>\n",
       "      <th>15-19</th>\n",
       "      <td>1492527</td>\n",
       "      <td>1506499</td>\n",
       "      <td>1255210</td>\n",
       "      <td>1185867</td>\n",
       "      <td>1129455</td>\n",
       "      <td>1045299</td>\n",
       "      <td>1292778</td>\n",
       "      <td>1212400</td>\n",
       "      <td>1133739</td>\n",
       "    </tr>\n",
       "    <tr>\n",
       "      <th>20-24</th>\n",
       "      <td>2207102</td>\n",
       "      <td>2454384</td>\n",
       "      <td>2475889</td>\n",
       "      <td>2157591</td>\n",
       "      <td>2494756</td>\n",
       "      <td>2278376</td>\n",
       "      <td>2206310</td>\n",
       "      <td>2609339</td>\n",
       "      <td>2504512</td>\n",
       "    </tr>\n",
       "    <tr>\n",
       "      <th>25-29</th>\n",
       "      <td>1025031</td>\n",
       "      <td>1372110</td>\n",
       "      <td>1241027</td>\n",
       "      <td>1121551</td>\n",
       "      <td>1223974</td>\n",
       "      <td>1268358</td>\n",
       "      <td>1177974</td>\n",
       "      <td>1534639</td>\n",
       "      <td>1343508</td>\n",
       "    </tr>\n",
       "    <tr>\n",
       "      <th>30-34</th>\n",
       "      <td>662575</td>\n",
       "      <td>655740</td>\n",
       "      <td>517476</td>\n",
       "      <td>600742</td>\n",
       "      <td>671914</td>\n",
       "      <td>607437</td>\n",
       "      <td>539005</td>\n",
       "      <td>806661</td>\n",
       "      <td>754722</td>\n",
       "    </tr>\n",
       "    <tr>\n",
       "      <th>35-39</th>\n",
       "      <td>467781</td>\n",
       "      <td>386609</td>\n",
       "      <td>400794</td>\n",
       "      <td>412185</td>\n",
       "      <td>398486</td>\n",
       "      <td>431590</td>\n",
       "      <td>439372</td>\n",
       "      <td>618486</td>\n",
       "      <td>649921</td>\n",
       "    </tr>\n",
       "    <tr>\n",
       "      <th>40-44</th>\n",
       "      <td>361287</td>\n",
       "      <td>278279</td>\n",
       "      <td>262133</td>\n",
       "      <td>376225</td>\n",
       "      <td>318750</td>\n",
       "      <td>330424</td>\n",
       "      <td>320744</td>\n",
       "      <td>570598</td>\n",
       "      <td>594249</td>\n",
       "    </tr>\n",
       "    <tr>\n",
       "      <th>45-49</th>\n",
       "      <td>351230</td>\n",
       "      <td>352618</td>\n",
       "      <td>224408</td>\n",
       "      <td>384380</td>\n",
       "      <td>256955</td>\n",
       "      <td>322647</td>\n",
       "      <td>279753</td>\n",
       "      <td>488428</td>\n",
       "      <td>604900</td>\n",
       "    </tr>\n",
       "    <tr>\n",
       "      <th>50-54</th>\n",
       "      <td>322576</td>\n",
       "      <td>207091</td>\n",
       "      <td>232180</td>\n",
       "      <td>297844</td>\n",
       "      <td>206608</td>\n",
       "      <td>207872</td>\n",
       "      <td>267686</td>\n",
       "      <td>390218</td>\n",
       "      <td>495351</td>\n",
       "    </tr>\n",
       "    <tr>\n",
       "      <th>55-59</th>\n",
       "      <td>154469</td>\n",
       "      <td>162058</td>\n",
       "      <td>133479</td>\n",
       "      <td>278554</td>\n",
       "      <td>158746</td>\n",
       "      <td>159477</td>\n",
       "      <td>244416</td>\n",
       "      <td>319643</td>\n",
       "      <td>122140</td>\n",
       "    </tr>\n",
       "    <tr>\n",
       "      <th>60+</th>\n",
       "      <td>102491</td>\n",
       "      <td>79379</td>\n",
       "      <td>281576</td>\n",
       "      <td>190323</td>\n",
       "      <td>103813</td>\n",
       "      <td>247316</td>\n",
       "      <td>157448</td>\n",
       "      <td>195596</td>\n",
       "      <td>199111</td>\n",
       "    </tr>\n",
       "  </tbody>\n",
       "</table>\n",
       "</div>"
      ],
      "text/plain": [
       "              jumlah_pengangguran                                      \\\n",
       "tahun                        2014     2015     2016     2017     2018   \n",
       "kelompok_usia                                                           \n",
       "15-19                     1492527  1506499  1255210  1185867  1129455   \n",
       "20-24                     2207102  2454384  2475889  2157591  2494756   \n",
       "25-29                     1025031  1372110  1241027  1121551  1223974   \n",
       "30-34                      662575   655740   517476   600742   671914   \n",
       "35-39                      467781   386609   400794   412185   398486   \n",
       "40-44                      361287   278279   262133   376225   318750   \n",
       "45-49                      351230   352618   224408   384380   256955   \n",
       "50-54                      322576   207091   232180   297844   206608   \n",
       "55-59                      154469   162058   133479   278554   158746   \n",
       "60+                        102491    79379   281576   190323   103813   \n",
       "\n",
       "                                                   \n",
       "tahun             2019     2020     2021     2022  \n",
       "kelompok_usia                                      \n",
       "15-19          1045299  1292778  1212400  1133739  \n",
       "20-24          2278376  2206310  2609339  2504512  \n",
       "25-29          1268358  1177974  1534639  1343508  \n",
       "30-34           607437   539005   806661   754722  \n",
       "35-39           431590   439372   618486   649921  \n",
       "40-44           330424   320744   570598   594249  \n",
       "45-49           322647   279753   488428   604900  \n",
       "50-54           207872   267686   390218   495351  \n",
       "55-59           159477   244416   319643   122140  \n",
       "60+             247316   157448   195596   199111  "
      ]
     },
     "execution_count": 63,
     "metadata": {},
     "output_type": "execute_result"
    }
   ],
   "source": [
    "usia.pivot_table(\n",
    "    index = 'kelompok_usia',\n",
    "    columns = 'tahun',\n",
    "    aggfunc = 'sum'\n",
    ")"
   ]
  },
  {
   "cell_type": "markdown",
   "metadata": {},
   "source": [
    "# Exploratory Data Analysis"
   ]
  },
  {
   "cell_type": "code",
   "execution_count": 64,
   "metadata": {},
   "outputs": [
    {
     "data": {
      "text/plain": [
       "<AxesSubplot:xlabel='tahun'>"
      ]
     },
     "execution_count": 64,
     "metadata": {},
     "output_type": "execute_result"
    },
    {
     "data": {
      "image/png": "[encoded data removed]",
      "text/plain": [
       "<Figure size 432x288 with 1 Axes>"
      ]
     },
     "metadata": {
      "needs_background": "light"
     },
     "output_type": "display_data"
    }
   ],
   "source": [
    "sns.lineplot(\n",
    "    data = usia.groupby('tahun').sum()\n",
    ")"
   ]
  },
  {
   "cell_type": "markdown",
   "metadata": {},
   "source": [
    "# Export"
   ]
  },
  {
   "cell_type": "code",
   "execution_count": 65,
   "metadata": {},
   "outputs": [],
   "source": [
    "usia.to_csv('cleaned_usia.csv')"
   ]
  }
 ],
 "metadata": {
  "kernelspec": {
   "display_name": "Python 3.9.12 ('Capstone_DQLab')",
   "language": "python",
   "name": "python3"
  },
  "language_info": {
   "codemirror_mode": {
    "name": "ipython",
    "version": 3
   },
   "file_extension": ".py",
   "mimetype": "text/x-python",
   "name": "python",
   "nbconvert_exporter": "python",
   "pygments_lexer": "ipython3",
   "version": "3.9.12"
  },
  "orig_nbformat": 4,
  "vscode": {
   "interpreter": {
    "hash": "5480f5194d4b23de4c2cf1e95d44158d7061274d0a390157d08ae154df9035c1"
   }
  }
 },
 "nbformat": 4,
 "nbformat_minor": 2
}
