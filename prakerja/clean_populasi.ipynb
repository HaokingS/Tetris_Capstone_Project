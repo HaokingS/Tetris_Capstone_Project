{
 "cells": [
  {
   "cell_type": "markdown",
   "metadata": {},
   "source": [
    "# Import library dan dataset"
   ]
  },
  {
   "cell_type": "code",
   "execution_count": 60,
   "metadata": {},
   "outputs": [
    {
     "data": {
      "text/html": [
       "<div>\n",
       "<style scoped>\n",
       "    .dataframe tbody tr th:only-of-type {\n",
       "        vertical-align: middle;\n",
       "    }\n",
       "\n",
       "    .dataframe tbody tr th {\n",
       "        vertical-align: top;\n",
       "    }\n",
       "\n",
       "    .dataframe thead th {\n",
       "        text-align: right;\n",
       "    }\n",
       "</style>\n",
       "<table border=\"1\" class=\"dataframe\">\n",
       "  <thead>\n",
       "    <tr style=\"text-align: right;\">\n",
       "      <th></th>\n",
       "      <th>country</th>\n",
       "      <th>1800</th>\n",
       "      <th>1801</th>\n",
       "      <th>1802</th>\n",
       "      <th>1803</th>\n",
       "      <th>1804</th>\n",
       "      <th>1805</th>\n",
       "      <th>1806</th>\n",
       "      <th>1807</th>\n",
       "      <th>1808</th>\n",
       "      <th>...</th>\n",
       "      <th>2091</th>\n",
       "      <th>2092</th>\n",
       "      <th>2093</th>\n",
       "      <th>2094</th>\n",
       "      <th>2095</th>\n",
       "      <th>2096</th>\n",
       "      <th>2097</th>\n",
       "      <th>2098</th>\n",
       "      <th>2099</th>\n",
       "      <th>2100</th>\n",
       "    </tr>\n",
       "  </thead>\n",
       "  <tbody>\n",
       "    <tr>\n",
       "      <th>0</th>\n",
       "      <td>Afghanistan</td>\n",
       "      <td>3.28M</td>\n",
       "      <td>3.28M</td>\n",
       "      <td>3.28M</td>\n",
       "      <td>3.28M</td>\n",
       "      <td>3.28M</td>\n",
       "      <td>3.28M</td>\n",
       "      <td>3.28M</td>\n",
       "      <td>3.28M</td>\n",
       "      <td>3.28M</td>\n",
       "      <td>...</td>\n",
       "      <td>76.6M</td>\n",
       "      <td>76.4M</td>\n",
       "      <td>76.3M</td>\n",
       "      <td>76.1M</td>\n",
       "      <td>76M</td>\n",
       "      <td>75.8M</td>\n",
       "      <td>75.6M</td>\n",
       "      <td>75.4M</td>\n",
       "      <td>75.2M</td>\n",
       "      <td>74.9M</td>\n",
       "    </tr>\n",
       "    <tr>\n",
       "      <th>1</th>\n",
       "      <td>Angola</td>\n",
       "      <td>1.57M</td>\n",
       "      <td>1.57M</td>\n",
       "      <td>1.57M</td>\n",
       "      <td>1.57M</td>\n",
       "      <td>1.57M</td>\n",
       "      <td>1.57M</td>\n",
       "      <td>1.57M</td>\n",
       "      <td>1.57M</td>\n",
       "      <td>1.57M</td>\n",
       "      <td>...</td>\n",
       "      <td>168M</td>\n",
       "      <td>170M</td>\n",
       "      <td>172M</td>\n",
       "      <td>175M</td>\n",
       "      <td>177M</td>\n",
       "      <td>179M</td>\n",
       "      <td>182M</td>\n",
       "      <td>184M</td>\n",
       "      <td>186M</td>\n",
       "      <td>188M</td>\n",
       "    </tr>\n",
       "    <tr>\n",
       "      <th>2</th>\n",
       "      <td>Albania</td>\n",
       "      <td>400k</td>\n",
       "      <td>402k</td>\n",
       "      <td>404k</td>\n",
       "      <td>405k</td>\n",
       "      <td>407k</td>\n",
       "      <td>409k</td>\n",
       "      <td>411k</td>\n",
       "      <td>413k</td>\n",
       "      <td>414k</td>\n",
       "      <td>...</td>\n",
       "      <td>1.33M</td>\n",
       "      <td>1.3M</td>\n",
       "      <td>1.27M</td>\n",
       "      <td>1.25M</td>\n",
       "      <td>1.22M</td>\n",
       "      <td>1.19M</td>\n",
       "      <td>1.17M</td>\n",
       "      <td>1.14M</td>\n",
       "      <td>1.11M</td>\n",
       "      <td>1.09M</td>\n",
       "    </tr>\n",
       "    <tr>\n",
       "      <th>3</th>\n",
       "      <td>Andorra</td>\n",
       "      <td>2650</td>\n",
       "      <td>2650</td>\n",
       "      <td>2650</td>\n",
       "      <td>2650</td>\n",
       "      <td>2650</td>\n",
       "      <td>2650</td>\n",
       "      <td>2650</td>\n",
       "      <td>2650</td>\n",
       "      <td>2650</td>\n",
       "      <td>...</td>\n",
       "      <td>63k</td>\n",
       "      <td>62.9k</td>\n",
       "      <td>62.9k</td>\n",
       "      <td>62.8k</td>\n",
       "      <td>62.7k</td>\n",
       "      <td>62.7k</td>\n",
       "      <td>62.6k</td>\n",
       "      <td>62.5k</td>\n",
       "      <td>62.5k</td>\n",
       "      <td>62.4k</td>\n",
       "    </tr>\n",
       "    <tr>\n",
       "      <th>4</th>\n",
       "      <td>United Arab Emirates</td>\n",
       "      <td>40.2k</td>\n",
       "      <td>40.2k</td>\n",
       "      <td>40.2k</td>\n",
       "      <td>40.2k</td>\n",
       "      <td>40.2k</td>\n",
       "      <td>40.2k</td>\n",
       "      <td>40.2k</td>\n",
       "      <td>40.2k</td>\n",
       "      <td>40.2k</td>\n",
       "      <td>...</td>\n",
       "      <td>12.3M</td>\n",
       "      <td>12.4M</td>\n",
       "      <td>12.5M</td>\n",
       "      <td>12.5M</td>\n",
       "      <td>12.6M</td>\n",
       "      <td>12.7M</td>\n",
       "      <td>12.7M</td>\n",
       "      <td>12.8M</td>\n",
       "      <td>12.8M</td>\n",
       "      <td>12.9M</td>\n",
       "    </tr>\n",
       "  </tbody>\n",
       "</table>\n",
       "<p>5 rows × 302 columns</p>\n",
       "</div>"
      ],
      "text/plain": [
       "                country   1800   1801   1802   1803   1804   1805   1806  \\\n",
       "0           Afghanistan  3.28M  3.28M  3.28M  3.28M  3.28M  3.28M  3.28M   \n",
       "1                Angola  1.57M  1.57M  1.57M  1.57M  1.57M  1.57M  1.57M   \n",
       "2               Albania   400k   402k   404k   405k   407k   409k   411k   \n",
       "3               Andorra   2650   2650   2650   2650   2650   2650   2650   \n",
       "4  United Arab Emirates  40.2k  40.2k  40.2k  40.2k  40.2k  40.2k  40.2k   \n",
       "\n",
       "    1807   1808  ...   2091   2092   2093   2094   2095   2096   2097   2098  \\\n",
       "0  3.28M  3.28M  ...  76.6M  76.4M  76.3M  76.1M    76M  75.8M  75.6M  75.4M   \n",
       "1  1.57M  1.57M  ...   168M   170M   172M   175M   177M   179M   182M   184M   \n",
       "2   413k   414k  ...  1.33M   1.3M  1.27M  1.25M  1.22M  1.19M  1.17M  1.14M   \n",
       "3   2650   2650  ...    63k  62.9k  62.9k  62.8k  62.7k  62.7k  62.6k  62.5k   \n",
       "4  40.2k  40.2k  ...  12.3M  12.4M  12.5M  12.5M  12.6M  12.7M  12.7M  12.8M   \n",
       "\n",
       "    2099   2100  \n",
       "0  75.2M  74.9M  \n",
       "1   186M   188M  \n",
       "2  1.11M  1.09M  \n",
       "3  62.5k  62.4k  \n",
       "4  12.8M  12.9M  \n",
       "\n",
       "[5 rows x 302 columns]"
      ]
     },
     "execution_count": 60,
     "metadata": {},
     "output_type": "execute_result"
    }
   ],
   "source": [
    "import pandas as pd\n",
    "import seaborn as sns\n",
    "import matplotlib.pyplot as plt\n",
    "populasi = pd.read_csv('dataset_populasi_dunia.csv')\n",
    "populasi.head()"
   ]
  },
  {
   "cell_type": "markdown",
   "metadata": {},
   "source": [
    "# Preparing Data"
   ]
  },
  {
   "cell_type": "markdown",
   "metadata": {},
   "source": [
    "## Transform Data"
   ]
  },
  {
   "cell_type": "code",
   "execution_count": 61,
   "metadata": {},
   "outputs": [
    {
     "data": {
      "text/html": [
       "<div>\n",
       "<style scoped>\n",
       "    .dataframe tbody tr th:only-of-type {\n",
       "        vertical-align: middle;\n",
       "    }\n",
       "\n",
       "    .dataframe tbody tr th {\n",
       "        vertical-align: top;\n",
       "    }\n",
       "\n",
       "    .dataframe thead th {\n",
       "        text-align: right;\n",
       "    }\n",
       "</style>\n",
       "<table border=\"1\" class=\"dataframe\">\n",
       "  <thead>\n",
       "    <tr style=\"text-align: right;\">\n",
       "      <th></th>\n",
       "      <th>country</th>\n",
       "      <th>tahun</th>\n",
       "      <th>jumlah</th>\n",
       "    </tr>\n",
       "  </thead>\n",
       "  <tbody>\n",
       "    <tr>\n",
       "      <th>0</th>\n",
       "      <td>Afghanistan</td>\n",
       "      <td>1800</td>\n",
       "      <td>3.28M</td>\n",
       "    </tr>\n",
       "    <tr>\n",
       "      <th>1</th>\n",
       "      <td>Afghanistan</td>\n",
       "      <td>1801</td>\n",
       "      <td>3.28M</td>\n",
       "    </tr>\n",
       "    <tr>\n",
       "      <th>2</th>\n",
       "      <td>Afghanistan</td>\n",
       "      <td>1802</td>\n",
       "      <td>3.28M</td>\n",
       "    </tr>\n",
       "    <tr>\n",
       "      <th>3</th>\n",
       "      <td>Afghanistan</td>\n",
       "      <td>1803</td>\n",
       "      <td>3.28M</td>\n",
       "    </tr>\n",
       "    <tr>\n",
       "      <th>4</th>\n",
       "      <td>Afghanistan</td>\n",
       "      <td>1804</td>\n",
       "      <td>3.28M</td>\n",
       "    </tr>\n",
       "    <tr>\n",
       "      <th>...</th>\n",
       "      <td>...</td>\n",
       "      <td>...</td>\n",
       "      <td>...</td>\n",
       "    </tr>\n",
       "    <tr>\n",
       "      <th>59292</th>\n",
       "      <td>Zimbabwe</td>\n",
       "      <td>2096</td>\n",
       "      <td>30.9M</td>\n",
       "    </tr>\n",
       "    <tr>\n",
       "      <th>59293</th>\n",
       "      <td>Zimbabwe</td>\n",
       "      <td>2097</td>\n",
       "      <td>31M</td>\n",
       "    </tr>\n",
       "    <tr>\n",
       "      <th>59294</th>\n",
       "      <td>Zimbabwe</td>\n",
       "      <td>2098</td>\n",
       "      <td>31M</td>\n",
       "    </tr>\n",
       "    <tr>\n",
       "      <th>59295</th>\n",
       "      <td>Zimbabwe</td>\n",
       "      <td>2099</td>\n",
       "      <td>31M</td>\n",
       "    </tr>\n",
       "    <tr>\n",
       "      <th>59296</th>\n",
       "      <td>Zimbabwe</td>\n",
       "      <td>2100</td>\n",
       "      <td>31M</td>\n",
       "    </tr>\n",
       "  </tbody>\n",
       "</table>\n",
       "<p>59297 rows × 3 columns</p>\n",
       "</div>"
      ],
      "text/plain": [
       "           country tahun jumlah\n",
       "0      Afghanistan  1800  3.28M\n",
       "1      Afghanistan  1801  3.28M\n",
       "2      Afghanistan  1802  3.28M\n",
       "3      Afghanistan  1803  3.28M\n",
       "4      Afghanistan  1804  3.28M\n",
       "...            ...   ...    ...\n",
       "59292     Zimbabwe  2096  30.9M\n",
       "59293     Zimbabwe  2097    31M\n",
       "59294     Zimbabwe  2098    31M\n",
       "59295     Zimbabwe  2099    31M\n",
       "59296     Zimbabwe  2100    31M\n",
       "\n",
       "[59297 rows x 3 columns]"
      ]
     },
     "execution_count": 61,
     "metadata": {},
     "output_type": "execute_result"
    }
   ],
   "source": [
    "populasi = (populasi.set_index('country')\n",
    "         .stack()\n",
    "         .reset_index(name='jumlah')\n",
    "         .rename(columns={'level_1':'tahun'}))\n",
    "populasi"
   ]
  },
  {
   "cell_type": "markdown",
   "metadata": {},
   "source": [
    "## Query"
   ]
  },
  {
   "cell_type": "markdown",
   "metadata": {},
   "source": [
    "Mengambil data Indonesia"
   ]
  },
  {
   "cell_type": "code",
   "execution_count": 62,
   "metadata": {},
   "outputs": [
    {
     "data": {
      "text/html": [
       "<div>\n",
       "<style scoped>\n",
       "    .dataframe tbody tr th:only-of-type {\n",
       "        vertical-align: middle;\n",
       "    }\n",
       "\n",
       "    .dataframe tbody tr th {\n",
       "        vertical-align: top;\n",
       "    }\n",
       "\n",
       "    .dataframe thead th {\n",
       "        text-align: right;\n",
       "    }\n",
       "</style>\n",
       "<table border=\"1\" class=\"dataframe\">\n",
       "  <thead>\n",
       "    <tr style=\"text-align: right;\">\n",
       "      <th></th>\n",
       "      <th>country</th>\n",
       "      <th>tahun</th>\n",
       "      <th>jumlah</th>\n",
       "    </tr>\n",
       "  </thead>\n",
       "  <tbody>\n",
       "    <tr>\n",
       "      <th>23774</th>\n",
       "      <td>Indonesia</td>\n",
       "      <td>2096</td>\n",
       "      <td>324M</td>\n",
       "    </tr>\n",
       "    <tr>\n",
       "      <th>23775</th>\n",
       "      <td>Indonesia</td>\n",
       "      <td>2097</td>\n",
       "      <td>324M</td>\n",
       "    </tr>\n",
       "    <tr>\n",
       "      <th>23776</th>\n",
       "      <td>Indonesia</td>\n",
       "      <td>2098</td>\n",
       "      <td>323M</td>\n",
       "    </tr>\n",
       "    <tr>\n",
       "      <th>23777</th>\n",
       "      <td>Indonesia</td>\n",
       "      <td>2099</td>\n",
       "      <td>322M</td>\n",
       "    </tr>\n",
       "    <tr>\n",
       "      <th>23778</th>\n",
       "      <td>Indonesia</td>\n",
       "      <td>2100</td>\n",
       "      <td>321M</td>\n",
       "    </tr>\n",
       "  </tbody>\n",
       "</table>\n",
       "</div>"
      ],
      "text/plain": [
       "         country tahun jumlah\n",
       "23774  Indonesia  2096   324M\n",
       "23775  Indonesia  2097   324M\n",
       "23776  Indonesia  2098   323M\n",
       "23777  Indonesia  2099   322M\n",
       "23778  Indonesia  2100   321M"
      ]
     },
     "execution_count": 62,
     "metadata": {},
     "output_type": "execute_result"
    }
   ],
   "source": [
    "populasi = populasi[populasi['country'] == 'Indonesia']\n",
    "populasi.tail()"
   ]
  },
  {
   "cell_type": "markdown",
   "metadata": {},
   "source": [
    "Reset index"
   ]
  },
  {
   "cell_type": "code",
   "execution_count": 63,
   "metadata": {},
   "outputs": [
    {
     "data": {
      "text/html": [
       "<div>\n",
       "<style scoped>\n",
       "    .dataframe tbody tr th:only-of-type {\n",
       "        vertical-align: middle;\n",
       "    }\n",
       "\n",
       "    .dataframe tbody tr th {\n",
       "        vertical-align: top;\n",
       "    }\n",
       "\n",
       "    .dataframe thead th {\n",
       "        text-align: right;\n",
       "    }\n",
       "</style>\n",
       "<table border=\"1\" class=\"dataframe\">\n",
       "  <thead>\n",
       "    <tr style=\"text-align: right;\">\n",
       "      <th></th>\n",
       "      <th>country</th>\n",
       "      <th>tahun</th>\n",
       "      <th>jumlah</th>\n",
       "    </tr>\n",
       "  </thead>\n",
       "  <tbody>\n",
       "    <tr>\n",
       "      <th>0</th>\n",
       "      <td>Indonesia</td>\n",
       "      <td>1800</td>\n",
       "      <td>16.1M</td>\n",
       "    </tr>\n",
       "    <tr>\n",
       "      <th>1</th>\n",
       "      <td>Indonesia</td>\n",
       "      <td>1801</td>\n",
       "      <td>16.2M</td>\n",
       "    </tr>\n",
       "    <tr>\n",
       "      <th>2</th>\n",
       "      <td>Indonesia</td>\n",
       "      <td>1802</td>\n",
       "      <td>16.2M</td>\n",
       "    </tr>\n",
       "    <tr>\n",
       "      <th>3</th>\n",
       "      <td>Indonesia</td>\n",
       "      <td>1803</td>\n",
       "      <td>16.2M</td>\n",
       "    </tr>\n",
       "    <tr>\n",
       "      <th>4</th>\n",
       "      <td>Indonesia</td>\n",
       "      <td>1804</td>\n",
       "      <td>16.3M</td>\n",
       "    </tr>\n",
       "    <tr>\n",
       "      <th>...</th>\n",
       "      <td>...</td>\n",
       "      <td>...</td>\n",
       "      <td>...</td>\n",
       "    </tr>\n",
       "    <tr>\n",
       "      <th>296</th>\n",
       "      <td>Indonesia</td>\n",
       "      <td>2096</td>\n",
       "      <td>324M</td>\n",
       "    </tr>\n",
       "    <tr>\n",
       "      <th>297</th>\n",
       "      <td>Indonesia</td>\n",
       "      <td>2097</td>\n",
       "      <td>324M</td>\n",
       "    </tr>\n",
       "    <tr>\n",
       "      <th>298</th>\n",
       "      <td>Indonesia</td>\n",
       "      <td>2098</td>\n",
       "      <td>323M</td>\n",
       "    </tr>\n",
       "    <tr>\n",
       "      <th>299</th>\n",
       "      <td>Indonesia</td>\n",
       "      <td>2099</td>\n",
       "      <td>322M</td>\n",
       "    </tr>\n",
       "    <tr>\n",
       "      <th>300</th>\n",
       "      <td>Indonesia</td>\n",
       "      <td>2100</td>\n",
       "      <td>321M</td>\n",
       "    </tr>\n",
       "  </tbody>\n",
       "</table>\n",
       "<p>301 rows × 3 columns</p>\n",
       "</div>"
      ],
      "text/plain": [
       "       country tahun jumlah\n",
       "0    Indonesia  1800  16.1M\n",
       "1    Indonesia  1801  16.2M\n",
       "2    Indonesia  1802  16.2M\n",
       "3    Indonesia  1803  16.2M\n",
       "4    Indonesia  1804  16.3M\n",
       "..         ...   ...    ...\n",
       "296  Indonesia  2096   324M\n",
       "297  Indonesia  2097   324M\n",
       "298  Indonesia  2098   323M\n",
       "299  Indonesia  2099   322M\n",
       "300  Indonesia  2100   321M\n",
       "\n",
       "[301 rows x 3 columns]"
      ]
     },
     "execution_count": 63,
     "metadata": {},
     "output_type": "execute_result"
    }
   ],
   "source": [
    "populasi = populasi.reset_index(drop=True)\n",
    "populasi"
   ]
  },
  {
   "cell_type": "markdown",
   "metadata": {},
   "source": [
    "## Type Casting"
   ]
  },
  {
   "cell_type": "code",
   "execution_count": 64,
   "metadata": {},
   "outputs": [
    {
     "name": "stdout",
     "output_type": "stream",
     "text": [
      "<class 'pandas.core.frame.DataFrame'>\n",
      "RangeIndex: 301 entries, 0 to 300\n",
      "Data columns (total 3 columns):\n",
      " #   Column   Non-Null Count  Dtype \n",
      "---  ------   --------------  ----- \n",
      " 0   country  301 non-null    object\n",
      " 1   tahun    301 non-null    object\n",
      " 2   jumlah   301 non-null    object\n",
      "dtypes: object(3)\n",
      "memory usage: 7.2+ KB\n"
     ]
    }
   ],
   "source": [
    "populasi.info()"
   ]
  },
  {
   "cell_type": "markdown",
   "metadata": {},
   "source": [
    "jumlah mau diubah jadi int"
   ]
  },
  {
   "cell_type": "markdown",
   "metadata": {},
   "source": [
    "Untuk mengubah text satuan menjadi bilangan"
   ]
  },
  {
   "cell_type": "code",
   "execution_count": 65,
   "metadata": {},
   "outputs": [
    {
     "data": {
      "text/html": [
       "<div>\n",
       "<style scoped>\n",
       "    .dataframe tbody tr th:only-of-type {\n",
       "        vertical-align: middle;\n",
       "    }\n",
       "\n",
       "    .dataframe tbody tr th {\n",
       "        vertical-align: top;\n",
       "    }\n",
       "\n",
       "    .dataframe thead th {\n",
       "        text-align: right;\n",
       "    }\n",
       "</style>\n",
       "<table border=\"1\" class=\"dataframe\">\n",
       "  <thead>\n",
       "    <tr style=\"text-align: right;\">\n",
       "      <th></th>\n",
       "      <th>country</th>\n",
       "      <th>tahun</th>\n",
       "      <th>jumlah</th>\n",
       "    </tr>\n",
       "  </thead>\n",
       "  <tbody>\n",
       "    <tr>\n",
       "      <th>0</th>\n",
       "      <td>Indonesia</td>\n",
       "      <td>1800</td>\n",
       "      <td>16100000.0</td>\n",
       "    </tr>\n",
       "    <tr>\n",
       "      <th>1</th>\n",
       "      <td>Indonesia</td>\n",
       "      <td>1801</td>\n",
       "      <td>16200000.0</td>\n",
       "    </tr>\n",
       "    <tr>\n",
       "      <th>2</th>\n",
       "      <td>Indonesia</td>\n",
       "      <td>1802</td>\n",
       "      <td>16200000.0</td>\n",
       "    </tr>\n",
       "    <tr>\n",
       "      <th>3</th>\n",
       "      <td>Indonesia</td>\n",
       "      <td>1803</td>\n",
       "      <td>16200000.0</td>\n",
       "    </tr>\n",
       "    <tr>\n",
       "      <th>4</th>\n",
       "      <td>Indonesia</td>\n",
       "      <td>1804</td>\n",
       "      <td>16300000.0</td>\n",
       "    </tr>\n",
       "  </tbody>\n",
       "</table>\n",
       "</div>"
      ],
      "text/plain": [
       "     country tahun      jumlah\n",
       "0  Indonesia  1800  16100000.0\n",
       "1  Indonesia  1801  16200000.0\n",
       "2  Indonesia  1802  16200000.0\n",
       "3  Indonesia  1803  16200000.0\n",
       "4  Indonesia  1804  16300000.0"
      ]
     },
     "execution_count": 65,
     "metadata": {},
     "output_type": "execute_result"
    }
   ],
   "source": [
    "def value_to_float(x):\n",
    "    if type(x) == float or type(x) == int:\n",
    "        return x\n",
    "    if 'K' in x:\n",
    "        if len(x) > 1:\n",
    "            return float(x.replace('K', '')) * 1000\n",
    "        return 1000.0\n",
    "    if 'M' in x:\n",
    "        if len(x) > 1:\n",
    "            return float(x.replace('M', '')) * 1000000\n",
    "        return 1000000.0\n",
    "populasi['jumlah'] = populasi['jumlah'].apply(value_to_float)\n",
    "populasi.head()"
   ]
  },
  {
   "cell_type": "code",
   "execution_count": 66,
   "metadata": {},
   "outputs": [
    {
     "name": "stdout",
     "output_type": "stream",
     "text": [
      "<class 'pandas.core.frame.DataFrame'>\n",
      "RangeIndex: 301 entries, 0 to 300\n",
      "Data columns (total 3 columns):\n",
      " #   Column   Non-Null Count  Dtype  \n",
      "---  ------   --------------  -----  \n",
      " 0   country  301 non-null    object \n",
      " 1   tahun    301 non-null    object \n",
      " 2   jumlah   301 non-null    float64\n",
      "dtypes: float64(1), object(2)\n",
      "memory usage: 7.2+ KB\n"
     ]
    }
   ],
   "source": [
    "populasi.info()"
   ]
  },
  {
   "cell_type": "markdown",
   "metadata": {},
   "source": [
    "## Check Missing Value"
   ]
  },
  {
   "cell_type": "code",
   "execution_count": 67,
   "metadata": {},
   "outputs": [
    {
     "data": {
      "text/plain": [
       "country    0\n",
       "tahun      0\n",
       "jumlah     0\n",
       "dtype: int64"
      ]
     },
     "execution_count": 67,
     "metadata": {},
     "output_type": "execute_result"
    }
   ],
   "source": [
    "populasi.isnull().sum()"
   ]
  },
  {
   "cell_type": "markdown",
   "metadata": {},
   "source": [
    "## Check Duplicate"
   ]
  },
  {
   "cell_type": "code",
   "execution_count": 68,
   "metadata": {},
   "outputs": [
    {
     "data": {
      "text/plain": [
       "country    301\n",
       "tahun      301\n",
       "jumlah     301\n",
       "dtype: int64"
      ]
     },
     "execution_count": 68,
     "metadata": {},
     "output_type": "execute_result"
    }
   ],
   "source": [
    "populasi.count()"
   ]
  },
  {
   "cell_type": "code",
   "execution_count": 69,
   "metadata": {},
   "outputs": [
    {
     "data": {
      "text/plain": [
       "country    301\n",
       "tahun      301\n",
       "jumlah     301\n",
       "dtype: int64"
      ]
     },
     "execution_count": 69,
     "metadata": {},
     "output_type": "execute_result"
    }
   ],
   "source": [
    "populasi.drop_duplicates()\n",
    "populasi.count()"
   ]
  },
  {
   "cell_type": "markdown",
   "metadata": {},
   "source": [
    "Tidak ada data duplikat"
   ]
  },
  {
   "cell_type": "markdown",
   "metadata": {},
   "source": [
    "# EDA"
   ]
  },
  {
   "cell_type": "code",
   "execution_count": 70,
   "metadata": {},
   "outputs": [
    {
     "name": "stderr",
     "output_type": "stream",
     "text": [
      "C:\\Users\\haoki\\AppData\\Local\\Temp\\ipykernel_5724\\2948909216.py:9: UserWarning: FixedFormatter should only be used together with FixedLocator\n",
      "  ax.set_xticklabels(ax.get_xticklabels(), rotation=40, ha=\"right\")\n"
     ]
    },
    {
     "data": {
      "image/png": "[encoded data removed]",
      "text/plain": [
       "<Figure size 432x288 with 1 Axes>"
      ]
     },
     "metadata": {
      "needs_background": "light"
     },
     "output_type": "display_data"
    }
   ],
   "source": [
    "ax = sns.lineplot(\n",
    "    x=\"tahun\", \n",
    "    y = 'jumlah', data = \n",
    "    populasi.iloc[200:220,:]\n",
    ")\n",
    "plt.title(\"Populasi Penduduk Indonesia\", y=1.02, fontsize=18)\n",
    "plt.xlabel('Tahun')\n",
    "plt.ylabel('Jumlah Penduduk')\n",
    "ax.set_xticklabels(ax.get_xticklabels(), rotation=40, ha=\"right\")\n",
    "plt.ticklabel_format(style='plain', axis='y')"
   ]
  },
  {
   "cell_type": "markdown",
   "metadata": {},
   "source": [
    "# Export"
   ]
  },
  {
   "cell_type": "code",
   "execution_count": 71,
   "metadata": {},
   "outputs": [],
   "source": [
    "populasi.to_csv('cleaned_populasi.csv')"
   ]
  }
 ],
 "metadata": {
  "kernelspec": {
   "display_name": "Python 3.9.12 ('Capstone_DQLab')",
   "language": "python",
   "name": "python3"
  },
  "language_info": {
   "codemirror_mode": {
    "name": "ipython",
    "version": 3
   },
   "file_extension": ".py",
   "mimetype": "text/x-python",
   "name": "python",
   "nbconvert_exporter": "python",
   "pygments_lexer": "ipython3",
   "version": "3.9.12"
  },
  "orig_nbformat": 4,
  "vscode": {
   "interpreter": {
    "hash": "5480f5194d4b23de4c2cf1e95d44158d7061274d0a390157d08ae154df9035c1"
   }
  }
 },
 "nbformat": 4,
 "nbformat_minor": 2
}
