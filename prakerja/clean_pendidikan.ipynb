{
 "cells": [
  {
   "cell_type": "markdown",
   "metadata": {},
   "source": [
    "# Import library dan dataset"
   ]
  },
  {
   "cell_type": "code",
   "execution_count": 48,
   "metadata": {},
   "outputs": [
    {
     "data": {
      "text/html": [
       "<div>\n",
       "<style scoped>\n",
       "    .dataframe tbody tr th:only-of-type {\n",
       "        vertical-align: middle;\n",
       "    }\n",
       "\n",
       "    .dataframe tbody tr th {\n",
       "        vertical-align: top;\n",
       "    }\n",
       "\n",
       "    .dataframe thead th {\n",
       "        text-align: right;\n",
       "    }\n",
       "</style>\n",
       "<table border=\"1\" class=\"dataframe\">\n",
       "  <thead>\n",
       "    <tr style=\"text-align: right;\">\n",
       "      <th></th>\n",
       "      <th>nama_variabel</th>\n",
       "      <th>nama_variabel_turunan</th>\n",
       "      <th>nama_tahun</th>\n",
       "      <th>nama_turunan_tahun</th>\n",
       "      <th>data_content</th>\n",
       "      <th>nama_item_vertical_variabel</th>\n",
       "    </tr>\n",
       "  </thead>\n",
       "  <tbody>\n",
       "    <tr>\n",
       "      <th>0</th>\n",
       "      <td>Pengangguran Terbuka Menurut Pendidikan Tertin...</td>\n",
       "      <td>Tidak Ada</td>\n",
       "      <td>2022</td>\n",
       "      <td>Februari</td>\n",
       "      <td>24852</td>\n",
       "      <td>Tidak/belum pernah sekolah</td>\n",
       "    </tr>\n",
       "    <tr>\n",
       "      <th>1</th>\n",
       "      <td>Pengangguran Terbuka Menurut Pendidikan Tertin...</td>\n",
       "      <td>Tidak Ada</td>\n",
       "      <td>2022</td>\n",
       "      <td>Februari</td>\n",
       "      <td>437819</td>\n",
       "      <td>Tidak/belum tamat SD</td>\n",
       "    </tr>\n",
       "    <tr>\n",
       "      <th>2</th>\n",
       "      <td>Pengangguran Terbuka Menurut Pendidikan Tertin...</td>\n",
       "      <td>Tidak Ada</td>\n",
       "      <td>2022</td>\n",
       "      <td>Februari</td>\n",
       "      <td>1230914</td>\n",
       "      <td>SD</td>\n",
       "    </tr>\n",
       "    <tr>\n",
       "      <th>3</th>\n",
       "      <td>Pengangguran Terbuka Menurut Pendidikan Tertin...</td>\n",
       "      <td>Tidak Ada</td>\n",
       "      <td>2022</td>\n",
       "      <td>Februari</td>\n",
       "      <td>1460221</td>\n",
       "      <td>SLTP</td>\n",
       "    </tr>\n",
       "    <tr>\n",
       "      <th>4</th>\n",
       "      <td>Pengangguran Terbuka Menurut Pendidikan Tertin...</td>\n",
       "      <td>Tidak Ada</td>\n",
       "      <td>2022</td>\n",
       "      <td>Februari</td>\n",
       "      <td>2251558</td>\n",
       "      <td>SLTA Umum/SMU</td>\n",
       "    </tr>\n",
       "  </tbody>\n",
       "</table>\n",
       "</div>"
      ],
      "text/plain": [
       "                                       nama_variabel nama_variabel_turunan  \\\n",
       "0  Pengangguran Terbuka Menurut Pendidikan Tertin...             Tidak Ada   \n",
       "1  Pengangguran Terbuka Menurut Pendidikan Tertin...             Tidak Ada   \n",
       "2  Pengangguran Terbuka Menurut Pendidikan Tertin...             Tidak Ada   \n",
       "3  Pengangguran Terbuka Menurut Pendidikan Tertin...             Tidak Ada   \n",
       "4  Pengangguran Terbuka Menurut Pendidikan Tertin...             Tidak Ada   \n",
       "\n",
       "   nama_tahun nama_turunan_tahun  data_content nama_item_vertical_variabel  \n",
       "0        2022           Februari         24852  Tidak/belum pernah sekolah  \n",
       "1        2022           Februari        437819        Tidak/belum tamat SD  \n",
       "2        2022           Februari       1230914                          SD  \n",
       "3        2022           Februari       1460221                        SLTP  \n",
       "4        2022           Februari       2251558               SLTA Umum/SMU  "
      ]
     },
     "execution_count": 48,
     "metadata": {},
     "output_type": "execute_result"
    }
   ],
   "source": [
    "import pandas as pd\n",
    "import seaborn as sns\n",
    "import matplotlib.pyplot as mlt\n",
    "pendidikan = pd.read_csv('dataset_pengangguran_pendidikan.csv')\n",
    "pendidikan.head()"
   ]
  },
  {
   "cell_type": "code",
   "execution_count": 49,
   "metadata": {},
   "outputs": [
    {
     "data": {
      "text/plain": [
       "Index(['nama_variabel', 'nama_variabel_turunan', 'nama_tahun',\n",
       "       'nama_turunan_tahun', 'data_content', 'nama_item_vertical_variabel'],\n",
       "      dtype='object')"
      ]
     },
     "execution_count": 49,
     "metadata": {},
     "output_type": "execute_result"
    }
   ],
   "source": [
    "pendidikan.columns"
   ]
  },
  {
   "cell_type": "code",
   "execution_count": 50,
   "metadata": {},
   "outputs": [
    {
     "data": {
      "text/plain": [
       "(72, 6)"
      ]
     },
     "execution_count": 50,
     "metadata": {},
     "output_type": "execute_result"
    }
   ],
   "source": [
    "pendidikan.shape"
   ]
  },
  {
   "cell_type": "markdown",
   "metadata": {},
   "source": [
    "# Data Cleaning"
   ]
  },
  {
   "cell_type": "markdown",
   "metadata": {},
   "source": [
    "## Delete Column"
   ]
  },
  {
   "cell_type": "code",
   "execution_count": 51,
   "metadata": {},
   "outputs": [
    {
     "data": {
      "text/html": [
       "<div>\n",
       "<style scoped>\n",
       "    .dataframe tbody tr th:only-of-type {\n",
       "        vertical-align: middle;\n",
       "    }\n",
       "\n",
       "    .dataframe tbody tr th {\n",
       "        vertical-align: top;\n",
       "    }\n",
       "\n",
       "    .dataframe thead th {\n",
       "        text-align: right;\n",
       "    }\n",
       "</style>\n",
       "<table border=\"1\" class=\"dataframe\">\n",
       "  <thead>\n",
       "    <tr style=\"text-align: right;\">\n",
       "      <th></th>\n",
       "      <th>nama_tahun</th>\n",
       "      <th>data_content</th>\n",
       "      <th>nama_item_vertical_variabel</th>\n",
       "    </tr>\n",
       "  </thead>\n",
       "  <tbody>\n",
       "    <tr>\n",
       "      <th>0</th>\n",
       "      <td>2022</td>\n",
       "      <td>24852</td>\n",
       "      <td>Tidak/belum pernah sekolah</td>\n",
       "    </tr>\n",
       "    <tr>\n",
       "      <th>1</th>\n",
       "      <td>2022</td>\n",
       "      <td>437819</td>\n",
       "      <td>Tidak/belum tamat SD</td>\n",
       "    </tr>\n",
       "    <tr>\n",
       "      <th>2</th>\n",
       "      <td>2022</td>\n",
       "      <td>1230914</td>\n",
       "      <td>SD</td>\n",
       "    </tr>\n",
       "    <tr>\n",
       "      <th>3</th>\n",
       "      <td>2022</td>\n",
       "      <td>1460221</td>\n",
       "      <td>SLTP</td>\n",
       "    </tr>\n",
       "    <tr>\n",
       "      <th>4</th>\n",
       "      <td>2022</td>\n",
       "      <td>2251558</td>\n",
       "      <td>SLTA Umum/SMU</td>\n",
       "    </tr>\n",
       "  </tbody>\n",
       "</table>\n",
       "</div>"
      ],
      "text/plain": [
       "   nama_tahun  data_content nama_item_vertical_variabel\n",
       "0        2022         24852  Tidak/belum pernah sekolah\n",
       "1        2022        437819        Tidak/belum tamat SD\n",
       "2        2022       1230914                          SD\n",
       "3        2022       1460221                        SLTP\n",
       "4        2022       2251558               SLTA Umum/SMU"
      ]
     },
     "execution_count": 51,
     "metadata": {},
     "output_type": "execute_result"
    }
   ],
   "source": [
    "pendidikan.drop(['nama_variabel', 'nama_variabel_turunan', 'nama_turunan_tahun'], axis = 1, inplace = True)\n",
    "pendidikan.head()"
   ]
  },
  {
   "cell_type": "markdown",
   "metadata": {},
   "source": [
    "## Rename Column"
   ]
  },
  {
   "cell_type": "code",
   "execution_count": 52,
   "metadata": {},
   "outputs": [
    {
     "data": {
      "text/html": [
       "<div>\n",
       "<style scoped>\n",
       "    .dataframe tbody tr th:only-of-type {\n",
       "        vertical-align: middle;\n",
       "    }\n",
       "\n",
       "    .dataframe tbody tr th {\n",
       "        vertical-align: top;\n",
       "    }\n",
       "\n",
       "    .dataframe thead th {\n",
       "        text-align: right;\n",
       "    }\n",
       "</style>\n",
       "<table border=\"1\" class=\"dataframe\">\n",
       "  <thead>\n",
       "    <tr style=\"text-align: right;\">\n",
       "      <th></th>\n",
       "      <th>tahun</th>\n",
       "      <th>jumlah_pengangguran</th>\n",
       "      <th>kelompok_pendidikan</th>\n",
       "    </tr>\n",
       "  </thead>\n",
       "  <tbody>\n",
       "    <tr>\n",
       "      <th>0</th>\n",
       "      <td>2022</td>\n",
       "      <td>24852</td>\n",
       "      <td>Tidak/belum pernah sekolah</td>\n",
       "    </tr>\n",
       "    <tr>\n",
       "      <th>1</th>\n",
       "      <td>2022</td>\n",
       "      <td>437819</td>\n",
       "      <td>Tidak/belum tamat SD</td>\n",
       "    </tr>\n",
       "    <tr>\n",
       "      <th>2</th>\n",
       "      <td>2022</td>\n",
       "      <td>1230914</td>\n",
       "      <td>SD</td>\n",
       "    </tr>\n",
       "    <tr>\n",
       "      <th>3</th>\n",
       "      <td>2022</td>\n",
       "      <td>1460221</td>\n",
       "      <td>SLTP</td>\n",
       "    </tr>\n",
       "    <tr>\n",
       "      <th>4</th>\n",
       "      <td>2022</td>\n",
       "      <td>2251558</td>\n",
       "      <td>SLTA Umum/SMU</td>\n",
       "    </tr>\n",
       "  </tbody>\n",
       "</table>\n",
       "</div>"
      ],
      "text/plain": [
       "   tahun  jumlah_pengangguran         kelompok_pendidikan\n",
       "0   2022                24852  Tidak/belum pernah sekolah\n",
       "1   2022               437819        Tidak/belum tamat SD\n",
       "2   2022              1230914                          SD\n",
       "3   2022              1460221                        SLTP\n",
       "4   2022              2251558               SLTA Umum/SMU"
      ]
     },
     "execution_count": 52,
     "metadata": {},
     "output_type": "execute_result"
    }
   ],
   "source": [
    "new_columns = {\n",
    "    'nama_tahun' : 'tahun',\n",
    "    'data_content' : 'jumlah_pengangguran',\n",
    "    'nama_item_vertical_variabel' : 'kelompok_pendidikan'\n",
    "}\n",
    "pendidikan = pendidikan.rename(columns = new_columns)\n",
    "pendidikan.head()"
   ]
  },
  {
   "cell_type": "markdown",
   "metadata": {},
   "source": [
    "## Type Casting"
   ]
  },
  {
   "cell_type": "code",
   "execution_count": 53,
   "metadata": {},
   "outputs": [
    {
     "name": "stdout",
     "output_type": "stream",
     "text": [
      "<class 'pandas.core.frame.DataFrame'>\n",
      "RangeIndex: 72 entries, 0 to 71\n",
      "Data columns (total 3 columns):\n",
      " #   Column               Non-Null Count  Dtype \n",
      "---  ------               --------------  ----- \n",
      " 0   tahun                72 non-null     int64 \n",
      " 1   jumlah_pengangguran  72 non-null     int64 \n",
      " 2   kelompok_pendidikan  72 non-null     object\n",
      "dtypes: int64(2), object(1)\n",
      "memory usage: 1.8+ KB\n"
     ]
    }
   ],
   "source": [
    "pendidikan.info()"
   ]
  },
  {
   "cell_type": "code",
   "execution_count": 54,
   "metadata": {},
   "outputs": [
    {
     "name": "stdout",
     "output_type": "stream",
     "text": [
      "<class 'pandas.core.frame.DataFrame'>\n",
      "RangeIndex: 72 entries, 0 to 71\n",
      "Data columns (total 3 columns):\n",
      " #   Column               Non-Null Count  Dtype \n",
      "---  ------               --------------  ----- \n",
      " 0   tahun                72 non-null     object\n",
      " 1   jumlah_pengangguran  72 non-null     int64 \n",
      " 2   kelompok_pendidikan  72 non-null     object\n",
      "dtypes: int64(1), object(2)\n",
      "memory usage: 1.8+ KB\n"
     ]
    }
   ],
   "source": [
    "pendidikan['tahun'] = pendidikan['tahun'].astype(str)\n",
    "pendidikan.info()"
   ]
  },
  {
   "cell_type": "markdown",
   "metadata": {},
   "source": [
    "## Check Missing Value"
   ]
  },
  {
   "cell_type": "code",
   "execution_count": 55,
   "metadata": {},
   "outputs": [
    {
     "data": {
      "text/plain": [
       "tahun                  0\n",
       "jumlah_pengangguran    0\n",
       "kelompok_pendidikan    0\n",
       "dtype: int64"
      ]
     },
     "execution_count": 55,
     "metadata": {},
     "output_type": "execute_result"
    }
   ],
   "source": [
    "pendidikan.isnull().sum()"
   ]
  },
  {
   "cell_type": "markdown",
   "metadata": {},
   "source": [
    "## Statistic Descriptive"
   ]
  },
  {
   "cell_type": "code",
   "execution_count": 56,
   "metadata": {},
   "outputs": [
    {
     "data": {
      "text/html": [
       "<div>\n",
       "<style scoped>\n",
       "    .dataframe tbody tr th:only-of-type {\n",
       "        vertical-align: middle;\n",
       "    }\n",
       "\n",
       "    .dataframe tbody tr th {\n",
       "        vertical-align: top;\n",
       "    }\n",
       "\n",
       "    .dataframe thead th {\n",
       "        text-align: right;\n",
       "    }\n",
       "</style>\n",
       "<table border=\"1\" class=\"dataframe\">\n",
       "  <thead>\n",
       "    <tr style=\"text-align: right;\">\n",
       "      <th></th>\n",
       "      <th>jumlah_pengangguran</th>\n",
       "    </tr>\n",
       "  </thead>\n",
       "  <tbody>\n",
       "    <tr>\n",
       "      <th>count</th>\n",
       "      <td>7.200000e+01</td>\n",
       "    </tr>\n",
       "    <tr>\n",
       "      <th>mean</th>\n",
       "      <td>9.245440e+05</td>\n",
       "    </tr>\n",
       "    <tr>\n",
       "      <th>std</th>\n",
       "      <td>6.240186e+05</td>\n",
       "    </tr>\n",
       "    <tr>\n",
       "      <th>min</th>\n",
       "      <td>2.046100e+04</td>\n",
       "    </tr>\n",
       "    <tr>\n",
       "      <th>25%</th>\n",
       "      <td>3.332365e+05</td>\n",
       "    </tr>\n",
       "    <tr>\n",
       "      <th>50%</th>\n",
       "      <td>9.252050e+05</td>\n",
       "    </tr>\n",
       "    <tr>\n",
       "      <th>75%</th>\n",
       "      <td>1.386587e+06</td>\n",
       "    </tr>\n",
       "    <tr>\n",
       "      <th>max</th>\n",
       "      <td>2.305093e+06</td>\n",
       "    </tr>\n",
       "  </tbody>\n",
       "</table>\n",
       "</div>"
      ],
      "text/plain": [
       "       jumlah_pengangguran\n",
       "count         7.200000e+01\n",
       "mean          9.245440e+05\n",
       "std           6.240186e+05\n",
       "min           2.046100e+04\n",
       "25%           3.332365e+05\n",
       "50%           9.252050e+05\n",
       "75%           1.386587e+06\n",
       "max           2.305093e+06"
      ]
     },
     "execution_count": 56,
     "metadata": {},
     "output_type": "execute_result"
    }
   ],
   "source": [
    "pendidikan.describe()"
   ]
  },
  {
   "cell_type": "markdown",
   "metadata": {},
   "source": [
    "## Data Aggregation with Group by"
   ]
  },
  {
   "cell_type": "code",
   "execution_count": 57,
   "metadata": {},
   "outputs": [
    {
     "data": {
      "text/html": [
       "<div>\n",
       "<style scoped>\n",
       "    .dataframe tbody tr th:only-of-type {\n",
       "        vertical-align: middle;\n",
       "    }\n",
       "\n",
       "    .dataframe tbody tr th {\n",
       "        vertical-align: top;\n",
       "    }\n",
       "\n",
       "    .dataframe thead th {\n",
       "        text-align: right;\n",
       "    }\n",
       "</style>\n",
       "<table border=\"1\" class=\"dataframe\">\n",
       "  <thead>\n",
       "    <tr style=\"text-align: right;\">\n",
       "      <th></th>\n",
       "      <th>jumlah_pengangguran</th>\n",
       "    </tr>\n",
       "    <tr>\n",
       "      <th>tahun</th>\n",
       "      <th></th>\n",
       "    </tr>\n",
       "  </thead>\n",
       "  <tbody>\n",
       "    <tr>\n",
       "      <th>2014</th>\n",
       "      <td>7147069</td>\n",
       "    </tr>\n",
       "    <tr>\n",
       "      <th>2015</th>\n",
       "      <td>7454767</td>\n",
       "    </tr>\n",
       "    <tr>\n",
       "      <th>2016</th>\n",
       "      <td>7024172</td>\n",
       "    </tr>\n",
       "    <tr>\n",
       "      <th>2017</th>\n",
       "      <td>7005262</td>\n",
       "    </tr>\n",
       "    <tr>\n",
       "      <th>2018</th>\n",
       "      <td>6963457</td>\n",
       "    </tr>\n",
       "    <tr>\n",
       "      <th>2019</th>\n",
       "      <td>6898796</td>\n",
       "    </tr>\n",
       "    <tr>\n",
       "      <th>2020</th>\n",
       "      <td>6925486</td>\n",
       "    </tr>\n",
       "    <tr>\n",
       "      <th>2021</th>\n",
       "      <td>8746008</td>\n",
       "    </tr>\n",
       "    <tr>\n",
       "      <th>2022</th>\n",
       "      <td>8402153</td>\n",
       "    </tr>\n",
       "  </tbody>\n",
       "</table>\n",
       "</div>"
      ],
      "text/plain": [
       "       jumlah_pengangguran\n",
       "tahun                     \n",
       "2014               7147069\n",
       "2015               7454767\n",
       "2016               7024172\n",
       "2017               7005262\n",
       "2018               6963457\n",
       "2019               6898796\n",
       "2020               6925486\n",
       "2021               8746008\n",
       "2022               8402153"
      ]
     },
     "execution_count": 57,
     "metadata": {},
     "output_type": "execute_result"
    }
   ],
   "source": [
    "pendidikan.groupby('tahun').sum()"
   ]
  },
  {
   "cell_type": "code",
   "execution_count": 58,
   "metadata": {},
   "outputs": [
    {
     "data": {
      "text/html": [
       "<div>\n",
       "<style scoped>\n",
       "    .dataframe tbody tr th:only-of-type {\n",
       "        vertical-align: middle;\n",
       "    }\n",
       "\n",
       "    .dataframe tbody tr th {\n",
       "        vertical-align: top;\n",
       "    }\n",
       "\n",
       "    .dataframe thead th {\n",
       "        text-align: right;\n",
       "    }\n",
       "</style>\n",
       "<table border=\"1\" class=\"dataframe\">\n",
       "  <thead>\n",
       "    <tr style=\"text-align: right;\">\n",
       "      <th></th>\n",
       "      <th>jumlah_pengangguran</th>\n",
       "    </tr>\n",
       "    <tr>\n",
       "      <th>kelompok_pendidikan</th>\n",
       "      <th></th>\n",
       "    </tr>\n",
       "  </thead>\n",
       "  <tbody>\n",
       "    <tr>\n",
       "      <th>Akademi/Diploma</th>\n",
       "      <td>2285157</td>\n",
       "    </tr>\n",
       "    <tr>\n",
       "      <th>SD</th>\n",
       "      <td>10604856</td>\n",
       "    </tr>\n",
       "    <tr>\n",
       "      <th>SLTA Kejuruan/SMK</th>\n",
       "      <td>13005021</td>\n",
       "    </tr>\n",
       "    <tr>\n",
       "      <th>SLTA Umum/SMU</th>\n",
       "      <td>16424126</td>\n",
       "    </tr>\n",
       "    <tr>\n",
       "      <th>SLTP</th>\n",
       "      <td>12665927</td>\n",
       "    </tr>\n",
       "    <tr>\n",
       "      <th>Tidak/belum pernah sekolah</th>\n",
       "      <td>606203</td>\n",
       "    </tr>\n",
       "    <tr>\n",
       "      <th>Tidak/belum tamat SD</th>\n",
       "      <td>4341235</td>\n",
       "    </tr>\n",
       "    <tr>\n",
       "      <th>Universitas</th>\n",
       "      <td>6634645</td>\n",
       "    </tr>\n",
       "  </tbody>\n",
       "</table>\n",
       "</div>"
      ],
      "text/plain": [
       "                            jumlah_pengangguran\n",
       "kelompok_pendidikan                            \n",
       "Akademi/Diploma                         2285157\n",
       "SD                                     10604856\n",
       "SLTA Kejuruan/SMK                      13005021\n",
       "SLTA Umum/SMU                          16424126\n",
       "SLTP                                   12665927\n",
       "Tidak/belum pernah sekolah               606203\n",
       "Tidak/belum tamat SD                    4341235\n",
       "Universitas                             6634645"
      ]
     },
     "execution_count": 58,
     "metadata": {},
     "output_type": "execute_result"
    }
   ],
   "source": [
    "pendidikan.groupby('kelompok_pendidikan').sum()"
   ]
  },
  {
   "cell_type": "markdown",
   "metadata": {},
   "source": [
    "## Pivot table"
   ]
  },
  {
   "cell_type": "code",
   "execution_count": 59,
   "metadata": {},
   "outputs": [
    {
     "data": {
      "text/html": [
       "<div>\n",
       "<style scoped>\n",
       "    .dataframe tbody tr th:only-of-type {\n",
       "        vertical-align: middle;\n",
       "    }\n",
       "\n",
       "    .dataframe tbody tr th {\n",
       "        vertical-align: top;\n",
       "    }\n",
       "\n",
       "    .dataframe thead tr th {\n",
       "        text-align: left;\n",
       "    }\n",
       "\n",
       "    .dataframe thead tr:last-of-type th {\n",
       "        text-align: right;\n",
       "    }\n",
       "</style>\n",
       "<table border=\"1\" class=\"dataframe\">\n",
       "  <thead>\n",
       "    <tr>\n",
       "      <th></th>\n",
       "      <th colspan=\"9\" halign=\"left\">jumlah_pengangguran</th>\n",
       "    </tr>\n",
       "    <tr>\n",
       "      <th>tahun</th>\n",
       "      <th>2014</th>\n",
       "      <th>2015</th>\n",
       "      <th>2016</th>\n",
       "      <th>2017</th>\n",
       "      <th>2018</th>\n",
       "      <th>2019</th>\n",
       "      <th>2020</th>\n",
       "      <th>2021</th>\n",
       "      <th>2022</th>\n",
       "    </tr>\n",
       "    <tr>\n",
       "      <th>kelompok_pendidikan</th>\n",
       "      <th></th>\n",
       "      <th></th>\n",
       "      <th></th>\n",
       "      <th></th>\n",
       "      <th></th>\n",
       "      <th></th>\n",
       "      <th></th>\n",
       "      <th></th>\n",
       "      <th></th>\n",
       "    </tr>\n",
       "  </thead>\n",
       "  <tbody>\n",
       "    <tr>\n",
       "      <th>Akademi/Diploma</th>\n",
       "      <td>195258</td>\n",
       "      <td>254312</td>\n",
       "      <td>249362</td>\n",
       "      <td>249705</td>\n",
       "      <td>304744</td>\n",
       "      <td>274377</td>\n",
       "      <td>267583</td>\n",
       "      <td>254457</td>\n",
       "      <td>235359</td>\n",
       "    </tr>\n",
       "    <tr>\n",
       "      <th>SD</th>\n",
       "      <td>1374822</td>\n",
       "      <td>1320392</td>\n",
       "      <td>1218954</td>\n",
       "      <td>1292234</td>\n",
       "      <td>975661</td>\n",
       "      <td>965641</td>\n",
       "      <td>1006744</td>\n",
       "      <td>1219494</td>\n",
       "      <td>1230914</td>\n",
       "    </tr>\n",
       "    <tr>\n",
       "      <th>SLTA Kejuruan/SMK</th>\n",
       "      <td>847365</td>\n",
       "      <td>1174366</td>\n",
       "      <td>1348327</td>\n",
       "      <td>1383022</td>\n",
       "      <td>1445340</td>\n",
       "      <td>1397281</td>\n",
       "      <td>1443522</td>\n",
       "      <td>2089137</td>\n",
       "      <td>1876661</td>\n",
       "    </tr>\n",
       "    <tr>\n",
       "      <th>SLTA Umum/SMU</th>\n",
       "      <td>1893509</td>\n",
       "      <td>1762411</td>\n",
       "      <td>1546699</td>\n",
       "      <td>1552894</td>\n",
       "      <td>1672601</td>\n",
       "      <td>1690527</td>\n",
       "      <td>1748834</td>\n",
       "      <td>2305093</td>\n",
       "      <td>2251558</td>\n",
       "    </tr>\n",
       "    <tr>\n",
       "      <th>SLTP</th>\n",
       "      <td>1693203</td>\n",
       "      <td>1650387</td>\n",
       "      <td>1313815</td>\n",
       "      <td>1281240</td>\n",
       "      <td>1265421</td>\n",
       "      <td>1235199</td>\n",
       "      <td>1251352</td>\n",
       "      <td>1515089</td>\n",
       "      <td>1460221</td>\n",
       "    </tr>\n",
       "    <tr>\n",
       "      <th>Tidak/belum pernah sekolah</th>\n",
       "      <td>134040</td>\n",
       "      <td>124303</td>\n",
       "      <td>94293</td>\n",
       "      <td>92331</td>\n",
       "      <td>43740</td>\n",
       "      <td>36422</td>\n",
       "      <td>35761</td>\n",
       "      <td>20461</td>\n",
       "      <td>24852</td>\n",
       "    </tr>\n",
       "    <tr>\n",
       "      <th>Tidak/belum tamat SD</th>\n",
       "      <td>610574</td>\n",
       "      <td>603194</td>\n",
       "      <td>557418</td>\n",
       "      <td>546897</td>\n",
       "      <td>452326</td>\n",
       "      <td>443495</td>\n",
       "      <td>346778</td>\n",
       "      <td>342734</td>\n",
       "      <td>437819</td>\n",
       "    </tr>\n",
       "    <tr>\n",
       "      <th>Universitas</th>\n",
       "      <td>398298</td>\n",
       "      <td>565402</td>\n",
       "      <td>695304</td>\n",
       "      <td>606939</td>\n",
       "      <td>803624</td>\n",
       "      <td>855854</td>\n",
       "      <td>824912</td>\n",
       "      <td>999543</td>\n",
       "      <td>884769</td>\n",
       "    </tr>\n",
       "  </tbody>\n",
       "</table>\n",
       "</div>"
      ],
      "text/plain": [
       "                           jumlah_pengangguran                             \\\n",
       "tahun                                     2014     2015     2016     2017   \n",
       "kelompok_pendidikan                                                         \n",
       "Akademi/Diploma                         195258   254312   249362   249705   \n",
       "SD                                     1374822  1320392  1218954  1292234   \n",
       "SLTA Kejuruan/SMK                       847365  1174366  1348327  1383022   \n",
       "SLTA Umum/SMU                          1893509  1762411  1546699  1552894   \n",
       "SLTP                                   1693203  1650387  1313815  1281240   \n",
       "Tidak/belum pernah sekolah              134040   124303    94293    92331   \n",
       "Tidak/belum tamat SD                    610574   603194   557418   546897   \n",
       "Universitas                             398298   565402   695304   606939   \n",
       "\n",
       "                                                                         \n",
       "tahun                          2018     2019     2020     2021     2022  \n",
       "kelompok_pendidikan                                                      \n",
       "Akademi/Diploma              304744   274377   267583   254457   235359  \n",
       "SD                           975661   965641  1006744  1219494  1230914  \n",
       "SLTA Kejuruan/SMK           1445340  1397281  1443522  2089137  1876661  \n",
       "SLTA Umum/SMU               1672601  1690527  1748834  2305093  2251558  \n",
       "SLTP                        1265421  1235199  1251352  1515089  1460221  \n",
       "Tidak/belum pernah sekolah    43740    36422    35761    20461    24852  \n",
       "Tidak/belum tamat SD         452326   443495   346778   342734   437819  \n",
       "Universitas                  803624   855854   824912   999543   884769  "
      ]
     },
     "execution_count": 59,
     "metadata": {},
     "output_type": "execute_result"
    }
   ],
   "source": [
    "pendidikan.pivot_table(\n",
    "    index = 'kelompok_pendidikan',\n",
    "    columns = 'tahun',\n",
    "    aggfunc = 'sum'\n",
    ")"
   ]
  },
  {
   "cell_type": "code",
   "execution_count": 60,
   "metadata": {},
   "outputs": [],
   "source": [
    "pendidikan.to_csv('cleaned_pendidikan.csv')"
   ]
  }
 ],
 "metadata": {
  "kernelspec": {
   "display_name": "Python 3.9.12 ('Capstone_DQLab')",
   "language": "python",
   "name": "python3"
  },
  "language_info": {
   "codemirror_mode": {
    "name": "ipython",
    "version": 3
   },
   "file_extension": ".py",
   "mimetype": "text/x-python",
   "name": "python",
   "nbconvert_exporter": "python",
   "pygments_lexer": "ipython3",
   "version": "3.9.12"
  },
  "orig_nbformat": 4,
  "vscode": {
   "interpreter": {
    "hash": "5480f5194d4b23de4c2cf1e95d44158d7061274d0a390157d08ae154df9035c1"
   }
  }
 },
 "nbformat": 4,
 "nbformat_minor": 2
}
